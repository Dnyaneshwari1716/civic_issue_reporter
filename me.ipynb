{
 "cells": [
  {
   "cell_type": "code",
   "execution_count": 1,
   "id": "0c20408c",
   "metadata": {},
   "outputs": [],
   "source": [
    "from PIL import Image\n",
    "from PIL.ExifTags import TAGS, GPSTAGS\n",
    "\n",
    "def get_exif_data(image_path):\n",
    "    \"\"\"Extract EXIF data from an image file.\"\"\"\n",
    "    exif_data = {}\n",
    "    image = Image.open(image_path)\n",
    "    info = image._getexif()\n",
    "    if info:\n",
    "        for tag, value in info.items():\n",
    "            tag_name = TAGS.get(tag, tag)\n",
    "            if tag_name == \"GPSInfo\":\n",
    "                gps_data = {}\n",
    "                for gps_tag in value:\n",
    "                    gps_tag_name = GPSTAGS.get(gps_tag, gps_tag)\n",
    "                    gps_data[gps_tag_name] = value[gps_tag]\n",
    "                exif_data[\"GPSInfo\"] = gps_data\n",
    "            else:\n",
    "                exif_data[tag_name] = value\n",
    "    return exif_data\n",
    "\n",
    "def get_coordinates(gps_info):\n",
    "    \"\"\"Convert GPSInfo from EXIF to latitude and longitude.\"\"\"\n",
    "    def convert_to_degress(value):\n",
    "        d = value[0][0] / value[0][1]\n",
    "        m = value[1][0] / value[1][1]\n",
    "        s = value[2][0] / value[2][1]\n",
    "        return d + (m / 60.0) + (s / 3600.0)\n",
    "\n",
    "    lat = convert_to_degress(gps_info['GPSLatitude'])\n",
    "    if gps_info['GPSLatitudeRef'] != 'N':\n",
    "        lat = -lat\n",
    "\n",
    "    lon = convert_to_degress(gps_info['GPSLongitude'])\n",
    "    if gps_info['GPSLongitudeRef'] != 'E':\n",
    "        lon = -lon\n",
    "\n",
    "    return lat, lon\n",
    "\n",
    "def extract_gps_from_image(image_path):\n",
    "    \"\"\"Extract GPS coordinates from an image if available.\"\"\"\n",
    "    exif_data = get_exif_data(image_path)\n",
    "    if \"GPSInfo\" in exif_data:\n",
    "        gps_info = exif_data[\"GPSInfo\"]\n",
    "        lat, lon = get_coordinates(gps_info)\n",
    "        return lat, lon\n",
    "    else:\n",
    "        return None"
   ]
  },
  {
   "cell_type": "code",
   "execution_count": 3,
   "id": "f7b908e0",
   "metadata": {},
   "outputs": [
    {
     "ename": "SyntaxError",
     "evalue": "(unicode error) 'unicodeescape' codec can't decode bytes in position 26-27: truncated \\uXXXX escape (3354517040.py, line 1)",
     "output_type": "error",
     "traceback": [
      "  \u001b[36mCell\u001b[39m\u001b[36m \u001b[39m\u001b[32mIn[3]\u001b[39m\u001b[32m, line 1\u001b[39m\n\u001b[31m    \u001b[39m\u001b[31mgps_coordinates = extract_gps_from_image('civic_issue_reporter\\media\\uploads\\broken2_OxEq4jU.jpg')\u001b[39m\n                                             ^\n\u001b[31mSyntaxError\u001b[39m\u001b[31m:\u001b[39m (unicode error) 'unicodeescape' codec can't decode bytes in position 26-27: truncated \\uXXXX escape\n"
     ]
    }
   ],
   "source": [
    "gps_coordinates = extract_gps_from_image('civic_issue_reporter\\media\\uploads\\broken2_OxEq4jU.jpg')\n",
    "\n",
    "if gps_coordinates:\n",
    "    print(f\"Latitude: {gps_coordinates[0]}, Longitude: {gps_coordinates[1]}\")\n",
    "else:\n",
    "    print(\"No GPS info found in this image.\")"
   ]
  },
  {
   "cell_type": "code",
   "execution_count": null,
   "id": "9824b130",
   "metadata": {},
   "outputs": [],
   "source": [
    "lat, lon = 18.5204, 73.8567  # Pune coordinates\n",
    "address = reverse_geocode(lat, lon)\n",
    "\n",
    "if address:\n",
    "    print(f\"Detected Address: {address}\")\n",
    "else:\n",
    "    print(\"Could not find address.\")"
   ]
  },
  {
   "cell_type": "code",
   "execution_count": null,
   "id": "e6e5557f",
   "metadata": {},
   "outputs": [],
   "source": [
    "from google.generativeai import GenerativeModel\n",
    "\n",
    "import datetime\n",
    "\n",
    "def generate_complaint_with_gemini(description, location):\n",
    "    today_date = datetime.datetime.now().strftime(\"%d %B %Y\")\n",
    "\n",
    "    model = GenerativeModel('gemini-1.5-pro')  # or whatever version you use\n",
    "\n",
    "    prompt = f\"\"\"\n",
    "    You are a civic citizen.\n",
    "    Write a formal complaint email to the appropriate authority.\n",
    "    Issue Description: {description}\n",
    "    Location: {location}\n",
    "    Date: {today_date}\n",
    "    Tone: Polite, Professional, Urgent.\n",
    "    \"\"\"\n",
    "\n",
    "    response = model.generate_content(prompt)\n",
    "    return response.text\n",
    "\n",
    "# Example\n",
    "description = \"Overflowing garbage near Sector 7 park causing health hazard.\"\n",
    "location = \"Sector 7 Park, City Center\"\n",
    "\n",
    "complaint_body = generate_complaint_with_gemini(description, location)\n",
    "print(complaint_body)"
   ]
  }
 ],
 "metadata": {
  "kernelspec": {
   "display_name": ".venv",
   "language": "python",
   "name": "python3"
  },
  "language_info": {
   "codemirror_mode": {
    "name": "ipython",
    "version": 3
   },
   "file_extension": ".py",
   "mimetype": "text/x-python",
   "name": "python",
   "nbconvert_exporter": "python",
   "pygments_lexer": "ipython3",
   "version": "3.12.3"
  }
 },
 "nbformat": 4,
 "nbformat_minor": 5
}
